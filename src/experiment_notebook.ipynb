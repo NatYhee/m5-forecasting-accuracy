{
 "cells": [
  {
   "cell_type": "code",
   "execution_count": 9,
   "metadata": {},
   "outputs": [],
   "source": [
    "import pandas as pd\n",
    "import os\n",
    "import sys\n",
    "import re\n",
    "\n",
    "from pathlib import Path\n",
    "from matplotlib import pyplot as plt\n",
    "\n",
    "from import_downcasting import import_downcasting"
   ]
  },
  {
   "cell_type": "code",
   "execution_count": 10,
   "metadata": {},
   "outputs": [],
   "source": [
    "root = os.path.join(Path(Path(os.getcwd()).parent.absolute()), 'assets/data')\n",
    "\n",
    "\n",
    "calendar = import_downcasting(os.path.join(root, \"calendar.csv\"))\n",
    "# sales = import_downcasting(os.path.join(root, \"sales_train_evaluation.csv\"))\n",
    "sell_price = import_downcasting(os.path.join(root, \"sell_prices.csv\"))\n",
    "\n",
    "# sales_ca1 = sales[sales.store_id == \"CA_1\"]\n",
    "# sales_ca1.to_csv(os.path.join(root, \"sales_ca1.csv\"), index=False)\n",
    "# del sales"
   ]
  },
  {
   "cell_type": "code",
   "execution_count": 11,
   "metadata": {},
   "outputs": [],
   "source": [
    "sales_ca1 = import_downcasting(os.path.join(root, \"sales_ca1.csv\"))\n",
    "sales_ca1 = pd.melt(sales_ca1, id_vars=['id', 'item_id', 'dept_id', 'cat_id', 'store_id', 'state_id'], var_name=\"date_code\", value_name =\"unit_sold\")\n",
    "sales_ca1 = pd.merge(left=sales_ca1, right=calendar, left_on='date_code', right_on='d', how='left')"
   ]
  },
  {
   "cell_type": "code",
   "execution_count": 19,
   "metadata": {},
   "outputs": [
    {
     "name": "stdout",
     "output_type": "stream",
     "text": [
      "              item_id  unit_sold\n",
      "0         FOODS_3_090   128855.0\n",
      "1         FOODS_3_586    88846.0\n",
      "2         FOODS_3_252    76055.0\n",
      "3         FOODS_3_120    63107.0\n",
      "4         FOODS_3_714    54617.0\n",
      "...               ...        ...\n",
      "3044    HOBBIES_2_119       58.0\n",
      "3045    HOBBIES_2_015       57.0\n",
      "3046  HOUSEHOLD_2_230       55.0\n",
      "3047    HOBBIES_1_026       26.0\n",
      "3048  HOUSEHOLD_1_378       23.0\n",
      "\n",
      "[3049 rows x 2 columns]\n"
     ]
    }
   ],
   "source": [
    "ranked_item_unit = sales_ca1.groupby(['item_id'])['unit_sold'].sum().sort_values(ascending=False).reset_index()\n",
    "print(ranked_item_unit)"
   ]
  },
  {
   "cell_type": "code",
   "execution_count": null,
   "metadata": {},
   "outputs": [],
   "source": []
  },
  {
   "cell_type": "code",
   "execution_count": null,
   "metadata": {},
   "outputs": [],
   "source": [
    "sales['date'] = sales['date_code'].apply(lambda x: re.search(\"d_(.*)\",x))"
   ]
  },
  {
   "cell_type": "code",
   "execution_count": null,
   "metadata": {},
   "outputs": [],
   "source": [
    "sales.head()"
   ]
  },
  {
   "cell_type": "code",
   "execution_count": null,
   "metadata": {},
   "outputs": [],
   "source": []
  }
 ],
 "metadata": {
  "interpreter": {
   "hash": "7ce99009512751f93b59080d595fcfa5b1957e867bf59d8598e640b52fa98eba"
  },
  "kernelspec": {
   "display_name": "Python 3.7.11 64-bit ('base': conda)",
   "name": "python3"
  },
  "language_info": {
   "codemirror_mode": {
    "name": "ipython",
    "version": 3
   },
   "file_extension": ".py",
   "mimetype": "text/x-python",
   "name": "python",
   "nbconvert_exporter": "python",
   "pygments_lexer": "ipython3",
   "version": "3.7.11"
  },
  "orig_nbformat": 4
 },
 "nbformat": 4,
 "nbformat_minor": 2
}
