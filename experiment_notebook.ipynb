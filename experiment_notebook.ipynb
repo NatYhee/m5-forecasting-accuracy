{
 "cells": [
  {
   "cell_type": "code",
   "execution_count": 2,
   "metadata": {},
   "outputs": [],
   "source": [
    "import pandas as pd\n",
    "import os\n",
    "import sys\n",
    "import re\n",
    "import statsmodels.api as sm\n",
    "import seaborn as sns\n",
    "import pmdarima as pm\n",
    "import numpy as np\n",
    "\n",
    "from pathlib import Path\n",
    "from matplotlib import pyplot as plt\n",
    "from statsmodels.tsa.seasonal import seasonal_decompose\n",
    "from statsmodels.tsa.stattools import adfuller\n",
    "from statsmodels.tsa.arima_model import ARIMA\n",
    "from sktime.forecasting.arima import AutoARIMA\n",
    "\n",
    "from src.import_downcasting import import_downcasting\n",
    "# from src.utils import gen_weekday_num, ts_sales_plot, adf_test_autolag\n",
    "from src.models.timeseries.unitrootTest import searchStationarySeriesADF\n",
    "from src.models.timeseries.autoARIMA import autoARIMA"
   ]
  },
  {
   "cell_type": "code",
   "execution_count": 3,
   "metadata": {},
   "outputs": [],
   "source": [
    "# root = os.path.join(Path(Path(os.getcwd()).parent.absolute()), 'assets/data')\n",
    "root = os.path.join('assets/data')\n",
    "\n",
    "\n",
    "calendar = import_downcasting(os.path.join(root, \"raw/calendar.csv\"))\n",
    "# sales = import_downcasting(os.path.join(root, \"sales_train_evaluation.csv\"))\n",
    "sell_price = import_downcasting(os.path.join(root, \"raw/sell_prices.csv\"))\n",
    "\n",
    "# sales_ca1 = sales[sales.store_id == \"CA_1\"]\n",
    "# sales_ca1.to_csv(os.path.join(root, \"sales_ca1.csv\"), index=False)\n",
    "# del sales"
   ]
  },
  {
   "cell_type": "code",
   "execution_count": 4,
   "metadata": {},
   "outputs": [],
   "source": [
    "sales_ca1 = import_downcasting(os.path.join(root, \"sales_ca1.csv\"))\n",
    "sales_ca1 = pd.melt(sales_ca1, id_vars=['id', 'item_id', 'dept_id', 'cat_id', 'store_id', 'state_id'], var_name=\"date_code\", value_name =\"sales\")\n",
    "sales_ca1 = pd.merge(left=sales_ca1, right=calendar, left_on='date_code', right_on='d', how='left')\n",
    "sales_ca1 = pd.merge(left=sales_ca1, right=sell_price, left_on=['store_id', 'item_id', 'wm_yr_wk'], right_on=['store_id', 'item_id', 'wm_yr_wk'], how='left')\n",
    "# sales_ca1['weekday_num'] = sales_ca1['weekday'].apply(gen_weekday_num)"
   ]
  },
  {
   "cell_type": "code",
   "execution_count": 5,
   "metadata": {},
   "outputs": [
    {
     "ename": "AttributeError",
     "evalue": "type object 'autoARIMA' has no attribute 'fit'",
     "output_type": "error",
     "traceback": [
      "\u001b[0;31m---------------------------------------------------------------------------\u001b[0m",
      "\u001b[0;31mAttributeError\u001b[0m                            Traceback (most recent call last)",
      "\u001b[0;32m/tmp/ipykernel_1966/2616070306.py\u001b[0m in \u001b[0;36m<module>\u001b[0;34m\u001b[0m\n\u001b[1;32m      1\u001b[0m \u001b[0mpath\u001b[0m \u001b[0;34m=\u001b[0m \u001b[0mos\u001b[0m\u001b[0;34m.\u001b[0m\u001b[0mpath\u001b[0m\u001b[0;34m.\u001b[0m\u001b[0mjoin\u001b[0m\u001b[0;34m(\u001b[0m\u001b[0mroot\u001b[0m\u001b[0;34m,\u001b[0m \u001b[0;34m'sales_ca1_melted.csv'\u001b[0m\u001b[0;34m)\u001b[0m\u001b[0;34m\u001b[0m\u001b[0;34m\u001b[0m\u001b[0m\n\u001b[0;32m----> 2\u001b[0;31m \u001b[0mmodel\u001b[0m \u001b[0;34m=\u001b[0m \u001b[0mautoARIMA\u001b[0m\u001b[0;34m.\u001b[0m\u001b[0mfit\u001b[0m\u001b[0;34m(\u001b[0m\u001b[0mroot\u001b[0m\u001b[0;34m,\u001b[0m\u001b[0mpath\u001b[0m\u001b[0;34m)\u001b[0m\u001b[0;34m\u001b[0m\u001b[0;34m\u001b[0m\u001b[0m\n\u001b[0m\u001b[1;32m      3\u001b[0m \u001b[0;31m# model.train(root, 'root/sales_ca1_melted.csv')\u001b[0m\u001b[0;34m\u001b[0m\u001b[0;34m\u001b[0m\u001b[0;34m\u001b[0m\u001b[0m\n",
      "\u001b[0;31mAttributeError\u001b[0m: type object 'autoARIMA' has no attribute 'fit'"
     ]
    }
   ],
   "source": [
    "# path = os.path.join(root, 'sales_ca1_melted.csv')\n",
    "# model = autoARIMA.fit(root,path)\n",
    "# # model.train(root, 'root/sales_ca1_melted.csv')"
   ]
  },
  {
   "cell_type": "code",
   "execution_count": 7,
   "metadata": {},
   "outputs": [],
   "source": [
    "ranked_item_unit = sales_ca1.groupby(['item_id'])['sales'].sum().sort_values(ascending=False).reset_index()\n",
    "sales_ca1_rank1 = sales_ca1[sales_ca1.item_id == 'FOODS_3_090'].reset_index(drop=True)\n",
    "sales_ca1_rank1 = sales_ca1_rank1.set_index('date')"
   ]
  },
  {
   "cell_type": "code",
   "execution_count": 8,
   "metadata": {},
   "outputs": [
    {
     "name": "stdout",
     "output_type": "stream",
     "text": [
      "date\n",
      "2011-01-29      NaN\n",
      "2011-01-30     75.0\n",
      "2011-01-31   -135.0\n",
      "2011-02-01      0.0\n",
      "2011-02-02     15.0\n",
      "Name: sales, dtype: float32\n",
      "date\n",
      "2011-01-29    0.0\n",
      "2011-01-30    0.0\n",
      "2011-01-31    0.0\n",
      "2011-02-01    0.0\n",
      "2011-02-02    0.0\n",
      "Name: sales, dtype: float32\n",
      "<class 'pandas.core.frame.DataFrame'>\n",
      "DatetimeIndex: 1941 entries, 2011-01-29 to 2016-05-22\n",
      "Data columns (total 22 columns):\n",
      " #   Column        Non-Null Count  Dtype   \n",
      "---  ------        --------------  -----   \n",
      " 0   id            1941 non-null   category\n",
      " 1   item_id       1941 non-null   category\n",
      " 2   dept_id       1941 non-null   category\n",
      " 3   cat_id        1941 non-null   category\n",
      " 4   store_id      1941 non-null   object  \n",
      " 5   state_id      1941 non-null   category\n",
      " 6   date_code     1941 non-null   object  \n",
      " 7   sales         1941 non-null   int16   \n",
      " 8   wm_yr_wk      1941 non-null   int16   \n",
      " 9   weekday       1941 non-null   category\n",
      " 10  wday          1941 non-null   int8    \n",
      " 11  month         1941 non-null   int8    \n",
      " 12  year          1941 non-null   int16   \n",
      " 13  d             1941 non-null   category\n",
      " 14  event_name_1  158 non-null    category\n",
      " 15  event_type_1  158 non-null    category\n",
      " 16  event_name_2  4 non-null      category\n",
      " 17  event_type_2  4 non-null      category\n",
      " 18  snap_CA       1941 non-null   int8    \n",
      " 19  snap_TX       1941 non-null   int8    \n",
      " 20  snap_WI       1941 non-null   int8    \n",
      " 21  sell_price    1941 non-null   float16 \n",
      "dtypes: category(11), float16(1), int16(3), int8(5), object(2)\n",
      "memory usage: 356.0+ KB\n",
      "None\n"
     ]
    }
   ],
   "source": [
    "series = sales_ca1_rank1['sales']\n",
    "series_2 = series.diff(1)\n",
    "\n",
    "series.head()\n",
    "print(series_2.head())\n",
    "print(series.diff(0).head())\n",
    "print(sales_ca1_rank1.info())"
   ]
  },
  {
   "cell_type": "code",
   "execution_count": 9,
   "metadata": {},
   "outputs": [],
   "source": [
    "sationary = searchStationarySeriesADF(sales_ca1_rank1['sales'])\n",
    "diff_order = sationary.get_diff_order_stationary()"
   ]
  },
  {
   "cell_type": "code",
   "execution_count": 10,
   "metadata": {},
   "outputs": [
    {
     "name": "stdout",
     "output_type": "stream",
     "text": [
      "Performing stepwise search to minimize aic\n",
      " ARIMA(1,0,1)(0,0,0)[0] intercept   : AIC=19748.820, Time=0.26 sec\n",
      " ARIMA(0,0,0)(0,0,0)[0] intercept   : AIC=21240.359, Time=0.02 sec\n",
      " ARIMA(1,0,0)(0,0,0)[0] intercept   : AIC=19772.978, Time=0.06 sec\n",
      " ARIMA(0,0,1)(0,0,0)[0] intercept   : AIC=20326.482, Time=0.18 sec\n",
      " ARIMA(0,0,0)(0,0,0)[0]             : AIC=22883.216, Time=0.01 sec\n",
      " ARIMA(2,0,1)(0,0,0)[0] intercept   : AIC=19596.266, Time=0.64 sec\n",
      " ARIMA(2,0,0)(0,0,0)[0] intercept   : AIC=19757.711, Time=0.08 sec\n",
      " ARIMA(3,0,1)(0,0,0)[0] intercept   : AIC=19581.651, Time=1.02 sec\n",
      " ARIMA(3,0,0)(0,0,0)[0] intercept   : AIC=19739.283, Time=0.22 sec\n",
      " ARIMA(4,0,1)(0,0,0)[0] intercept   : AIC=19560.794, Time=1.08 sec\n",
      " ARIMA(4,0,0)(0,0,0)[0] intercept   : AIC=19708.413, Time=0.32 sec\n",
      " ARIMA(5,0,1)(0,0,0)[0] intercept   : AIC=19531.545, Time=1.38 sec\n",
      " ARIMA(5,0,0)(0,0,0)[0] intercept   : AIC=19643.973, Time=0.53 sec\n",
      " ARIMA(6,0,1)(0,0,0)[0] intercept   : AIC=19498.105, Time=1.45 sec\n",
      " ARIMA(6,0,0)(0,0,0)[0] intercept   : AIC=19547.987, Time=0.55 sec\n",
      " ARIMA(7,0,1)(0,0,0)[0] intercept   : AIC=19438.728, Time=1.31 sec\n",
      " ARIMA(7,0,0)(0,0,0)[0] intercept   : AIC=19441.630, Time=0.73 sec\n",
      " ARIMA(8,0,1)(0,0,0)[0] intercept   : AIC=19430.414, Time=2.45 sec\n",
      " ARIMA(8,0,0)(0,0,0)[0] intercept   : AIC=19435.289, Time=0.96 sec\n",
      " ARIMA(9,0,1)(0,0,0)[0] intercept   : AIC=19427.032, Time=1.57 sec\n",
      " ARIMA(9,0,0)(0,0,0)[0] intercept   : AIC=19425.067, Time=1.01 sec\n",
      " ARIMA(10,0,0)(0,0,0)[0] intercept   : AIC=19427.020, Time=1.36 sec\n",
      " ARIMA(10,0,1)(0,0,0)[0] intercept   : AIC=19429.011, Time=1.78 sec\n",
      " ARIMA(9,0,0)(0,0,0)[0]             : AIC=19449.036, Time=0.52 sec\n",
      "\n",
      "Best model:  ARIMA(9,0,0)(0,0,0)[0] intercept\n",
      "Total fit time: 19.506 seconds\n"
     ]
    },
    {
     "data": {
      "text/plain": [
       "AutoARIMA(D=0, d=0, error_action='ignore', max_d=0, max_p=30, max_q=30,\n",
       "          seasonal=False, start_P=0, start_p=1, start_q=1,\n",
       "          suppress_warnings=True, trace=True)"
      ]
     },
     "execution_count": 10,
     "metadata": {},
     "output_type": "execute_result"
    }
   ],
   "source": [
    "model = AutoARIMA(\n",
    "                      start_p=1, \n",
    "                      start_q=1,\n",
    "                      max_p=30, \n",
    "                      max_q=30, # maximum p and q\n",
    "                      d=diff_order,\n",
    "                      max_d=diff_order,           # let model determine 'd'\n",
    "                      seasonal=False,   # No Seasonality\n",
    "                      start_P=0, \n",
    "                      D=0, \n",
    "                      trace=True,\n",
    "                      error_action='ignore', \n",
    "                      suppress_warnings=True, \n",
    "                      stepwise=True,\n",
    "                      alpha=0.05)\n",
    "\n",
    "model.fit(sales_ca1_rank1['sales'])\n"
   ]
  },
  {
   "cell_type": "code",
   "execution_count": 13,
   "metadata": {},
   "outputs": [
    {
     "name": "stdout",
     "output_type": "stream",
     "text": [
      "<class 'tuple'>\n"
     ]
    }
   ],
   "source": [
    "# model.fit(sales_ca1_rank1['sales'])\n",
    "model.get_fitted_params()[\"order\"]\n",
    "print(type(model.get_fitted_params()[\"order\"]))\n"
   ]
  },
  {
   "cell_type": "code",
   "execution_count": null,
   "metadata": {},
   "outputs": [
    {
     "ename": "ValueError",
     "evalue": "Could not interpret input 'weekday_num'",
     "output_type": "error",
     "traceback": [
      "\u001b[0;31m---------------------------------------------------------------------------\u001b[0m",
      "\u001b[0;31mValueError\u001b[0m                                Traceback (most recent call last)",
      "\u001b[0;32m/tmp/ipykernel_354/1647330785.py\u001b[0m in \u001b[0;36m<module>\u001b[0;34m\u001b[0m\n\u001b[0;32m----> 1\u001b[0;31m \u001b[0msns\u001b[0m\u001b[0;34m.\u001b[0m\u001b[0mboxplot\u001b[0m\u001b[0;34m(\u001b[0m\u001b[0mx\u001b[0m\u001b[0;34m=\u001b[0m\u001b[0;34m\"weekday_num\"\u001b[0m\u001b[0;34m,\u001b[0m \u001b[0my\u001b[0m\u001b[0;34m=\u001b[0m\u001b[0;34m'sales'\u001b[0m\u001b[0;34m,\u001b[0m \u001b[0mdata\u001b[0m\u001b[0;34m=\u001b[0m\u001b[0msales_ca1_rank1\u001b[0m\u001b[0;34m,\u001b[0m \u001b[0morder\u001b[0m\u001b[0;34m=\u001b[0m\u001b[0;34m[\u001b[0m\u001b[0;36m1\u001b[0m\u001b[0;34m,\u001b[0m\u001b[0;36m2\u001b[0m\u001b[0;34m,\u001b[0m\u001b[0;36m3\u001b[0m\u001b[0;34m,\u001b[0m\u001b[0;36m4\u001b[0m\u001b[0;34m,\u001b[0m\u001b[0;36m5\u001b[0m\u001b[0;34m,\u001b[0m\u001b[0;36m6\u001b[0m\u001b[0;34m,\u001b[0m\u001b[0;36m7\u001b[0m\u001b[0;34m]\u001b[0m\u001b[0;34m)\u001b[0m\u001b[0;34m\u001b[0m\u001b[0;34m\u001b[0m\u001b[0m\n\u001b[0m",
      "\u001b[0;32m~/.local/share/virtualenvs/m5-forecasting-accuracy-_ysVpyC2/lib/python3.8/site-packages/seaborn/_decorators.py\u001b[0m in \u001b[0;36minner_f\u001b[0;34m(*args, **kwargs)\u001b[0m\n\u001b[1;32m     44\u001b[0m             )\n\u001b[1;32m     45\u001b[0m         \u001b[0mkwargs\u001b[0m\u001b[0;34m.\u001b[0m\u001b[0mupdate\u001b[0m\u001b[0;34m(\u001b[0m\u001b[0;34m{\u001b[0m\u001b[0mk\u001b[0m\u001b[0;34m:\u001b[0m \u001b[0marg\u001b[0m \u001b[0;32mfor\u001b[0m \u001b[0mk\u001b[0m\u001b[0;34m,\u001b[0m \u001b[0marg\u001b[0m \u001b[0;32min\u001b[0m \u001b[0mzip\u001b[0m\u001b[0;34m(\u001b[0m\u001b[0msig\u001b[0m\u001b[0;34m.\u001b[0m\u001b[0mparameters\u001b[0m\u001b[0;34m,\u001b[0m \u001b[0margs\u001b[0m\u001b[0;34m)\u001b[0m\u001b[0;34m}\u001b[0m\u001b[0;34m)\u001b[0m\u001b[0;34m\u001b[0m\u001b[0;34m\u001b[0m\u001b[0m\n\u001b[0;32m---> 46\u001b[0;31m         \u001b[0;32mreturn\u001b[0m \u001b[0mf\u001b[0m\u001b[0;34m(\u001b[0m\u001b[0;34m**\u001b[0m\u001b[0mkwargs\u001b[0m\u001b[0;34m)\u001b[0m\u001b[0;34m\u001b[0m\u001b[0;34m\u001b[0m\u001b[0m\n\u001b[0m\u001b[1;32m     47\u001b[0m     \u001b[0;32mreturn\u001b[0m \u001b[0minner_f\u001b[0m\u001b[0;34m\u001b[0m\u001b[0;34m\u001b[0m\u001b[0m\n\u001b[1;32m     48\u001b[0m \u001b[0;34m\u001b[0m\u001b[0m\n",
      "\u001b[0;32m~/.local/share/virtualenvs/m5-forecasting-accuracy-_ysVpyC2/lib/python3.8/site-packages/seaborn/categorical.py\u001b[0m in \u001b[0;36mboxplot\u001b[0;34m(x, y, hue, data, order, hue_order, orient, color, palette, saturation, width, dodge, fliersize, linewidth, whis, ax, **kwargs)\u001b[0m\n\u001b[1;32m   2241\u001b[0m ):\n\u001b[1;32m   2242\u001b[0m \u001b[0;34m\u001b[0m\u001b[0m\n\u001b[0;32m-> 2243\u001b[0;31m     plotter = _BoxPlotter(x, y, hue, data, order, hue_order,\n\u001b[0m\u001b[1;32m   2244\u001b[0m                           \u001b[0morient\u001b[0m\u001b[0;34m,\u001b[0m \u001b[0mcolor\u001b[0m\u001b[0;34m,\u001b[0m \u001b[0mpalette\u001b[0m\u001b[0;34m,\u001b[0m \u001b[0msaturation\u001b[0m\u001b[0;34m,\u001b[0m\u001b[0;34m\u001b[0m\u001b[0;34m\u001b[0m\u001b[0m\n\u001b[1;32m   2245\u001b[0m                           width, dodge, fliersize, linewidth)\n",
      "\u001b[0;32m~/.local/share/virtualenvs/m5-forecasting-accuracy-_ysVpyC2/lib/python3.8/site-packages/seaborn/categorical.py\u001b[0m in \u001b[0;36m__init__\u001b[0;34m(self, x, y, hue, data, order, hue_order, orient, color, palette, saturation, width, dodge, fliersize, linewidth)\u001b[0m\n\u001b[1;32m    404\u001b[0m                  width, dodge, fliersize, linewidth):\n\u001b[1;32m    405\u001b[0m \u001b[0;34m\u001b[0m\u001b[0m\n\u001b[0;32m--> 406\u001b[0;31m         \u001b[0mself\u001b[0m\u001b[0;34m.\u001b[0m\u001b[0mestablish_variables\u001b[0m\u001b[0;34m(\u001b[0m\u001b[0mx\u001b[0m\u001b[0;34m,\u001b[0m \u001b[0my\u001b[0m\u001b[0;34m,\u001b[0m \u001b[0mhue\u001b[0m\u001b[0;34m,\u001b[0m \u001b[0mdata\u001b[0m\u001b[0;34m,\u001b[0m \u001b[0morient\u001b[0m\u001b[0;34m,\u001b[0m \u001b[0morder\u001b[0m\u001b[0;34m,\u001b[0m \u001b[0mhue_order\u001b[0m\u001b[0;34m)\u001b[0m\u001b[0;34m\u001b[0m\u001b[0;34m\u001b[0m\u001b[0m\n\u001b[0m\u001b[1;32m    407\u001b[0m         \u001b[0mself\u001b[0m\u001b[0;34m.\u001b[0m\u001b[0mestablish_colors\u001b[0m\u001b[0;34m(\u001b[0m\u001b[0mcolor\u001b[0m\u001b[0;34m,\u001b[0m \u001b[0mpalette\u001b[0m\u001b[0;34m,\u001b[0m \u001b[0msaturation\u001b[0m\u001b[0;34m)\u001b[0m\u001b[0;34m\u001b[0m\u001b[0;34m\u001b[0m\u001b[0m\n\u001b[1;32m    408\u001b[0m \u001b[0;34m\u001b[0m\u001b[0m\n",
      "\u001b[0;32m~/.local/share/virtualenvs/m5-forecasting-accuracy-_ysVpyC2/lib/python3.8/site-packages/seaborn/categorical.py\u001b[0m in \u001b[0;36mestablish_variables\u001b[0;34m(self, x, y, hue, data, orient, order, hue_order, units)\u001b[0m\n\u001b[1;32m    151\u001b[0m                 \u001b[0;32mif\u001b[0m \u001b[0misinstance\u001b[0m\u001b[0;34m(\u001b[0m\u001b[0mvar\u001b[0m\u001b[0;34m,\u001b[0m \u001b[0mstr\u001b[0m\u001b[0;34m)\u001b[0m\u001b[0;34m:\u001b[0m\u001b[0;34m\u001b[0m\u001b[0;34m\u001b[0m\u001b[0m\n\u001b[1;32m    152\u001b[0m                     \u001b[0merr\u001b[0m \u001b[0;34m=\u001b[0m \u001b[0;34m\"Could not interpret input '{}'\"\u001b[0m\u001b[0;34m.\u001b[0m\u001b[0mformat\u001b[0m\u001b[0;34m(\u001b[0m\u001b[0mvar\u001b[0m\u001b[0;34m)\u001b[0m\u001b[0;34m\u001b[0m\u001b[0;34m\u001b[0m\u001b[0m\n\u001b[0;32m--> 153\u001b[0;31m                     \u001b[0;32mraise\u001b[0m \u001b[0mValueError\u001b[0m\u001b[0;34m(\u001b[0m\u001b[0merr\u001b[0m\u001b[0;34m)\u001b[0m\u001b[0;34m\u001b[0m\u001b[0;34m\u001b[0m\u001b[0m\n\u001b[0m\u001b[1;32m    154\u001b[0m \u001b[0;34m\u001b[0m\u001b[0m\n\u001b[1;32m    155\u001b[0m             \u001b[0;31m# Figure out the plotting orientation\u001b[0m\u001b[0;34m\u001b[0m\u001b[0;34m\u001b[0m\u001b[0;34m\u001b[0m\u001b[0m\n",
      "\u001b[0;31mValueError\u001b[0m: Could not interpret input 'weekday_num'"
     ]
    }
   ],
   "source": [
    "sns.boxplot(x=\"weekday_num\", y='sales', data=sales_ca1_rank1, order=[1,2,3,4,5,6,7])"
   ]
  },
  {
   "cell_type": "code",
   "execution_count": null,
   "metadata": {},
   "outputs": [],
   "source": [
    "result = seasonal_decompose(sales_ca1_rank1['sales'], model='additive', period=10)\n",
    "\n",
    "fig = plt.figure()  \n",
    "fig = result.plot()  \n",
    "fig.set_size_inches(15, 12)\n",
    "\n",
    "\n",
    "# month_year = sales_ca1_rank1.groupby(['year', 'month']).sales.sum().reset_index()\n",
    "# month_year = month_year[month_year.year > 2013].reset_index()\n",
    "# sns.barplot(data=month_year, x=month_year.index, y='sales')"
   ]
  },
  {
   "cell_type": "code",
   "execution_count": null,
   "metadata": {},
   "outputs": [],
   "source": [
    "sales_ca1_rank1['sales_first_diff'] = sales_ca1_rank1['sales'] - sales_ca1_rank1['sales'].shift(1)\n",
    "sales_ca1_rank1 = sales_ca1_rank1.loc[sales_ca1_rank1['sales_first_diff'].notnull()]"
   ]
  },
  {
   "cell_type": "code",
   "execution_count": null,
   "metadata": {},
   "outputs": [],
   "source": [
    "ts_sales_plot(sales_ca1_rank1, 'sales')\n",
    "ts_sales_plot(sales_ca1_rank1, 'sales_first_diff')\n"
   ]
  },
  {
   "cell_type": "code",
   "execution_count": null,
   "metadata": {},
   "outputs": [],
   "source": [
    "rest = adfuller(sales_ca1_rank1['sales'])\n",
    "print(rest)\n",
    "print(type(rest))"
   ]
  },
  {
   "cell_type": "code",
   "execution_count": null,
   "metadata": {},
   "outputs": [],
   "source": [
    "searchStationarySeriesADF(sales_ca1_rank1['sales'])"
   ]
  },
  {
   "cell_type": "code",
   "execution_count": null,
   "metadata": {},
   "outputs": [],
   "source": [
    "sm.graphics.tsa.plot_acf(sales_ca1_rank1.sales, lags=40)\n",
    "sm.graphics.tsa.plot_pacf(sales_ca1_rank1.sales, lags=40) "
   ]
  },
  {
   "cell_type": "code",
   "execution_count": null,
   "metadata": {},
   "outputs": [],
   "source": [
    "sm.graphics.tsa.plot_acf(sales_ca1_rank1.sales_first_diff, lags=40) \n",
    "sm.graphics.tsa.plot_pacf(sales_ca1_rank1.sales_first_diff, lags=40) "
   ]
  },
  {
   "cell_type": "code",
   "execution_count": null,
   "metadata": {},
   "outputs": [],
   "source": []
  },
  {
   "cell_type": "code",
   "execution_count": null,
   "metadata": {},
   "outputs": [],
   "source": []
  }
 ],
 "metadata": {
  "interpreter": {
   "hash": "7ce99009512751f93b59080d595fcfa5b1957e867bf59d8598e640b52fa98eba"
  },
  "kernelspec": {
   "display_name": "Python 3.7.11 64-bit ('base': conda)",
   "name": "python3"
  },
  "language_info": {
   "codemirror_mode": {
    "name": "ipython",
    "version": 3
   },
   "file_extension": ".py",
   "mimetype": "text/x-python",
   "name": "python",
   "nbconvert_exporter": "python",
   "pygments_lexer": "ipython3",
   "version": "3.8.10"
  },
  "orig_nbformat": 4
 },
 "nbformat": 4,
 "nbformat_minor": 2
}
