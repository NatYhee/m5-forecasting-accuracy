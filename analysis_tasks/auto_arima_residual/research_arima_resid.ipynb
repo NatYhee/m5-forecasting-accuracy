{
 "cells": [
  {
   "cell_type": "code",
   "execution_count": 1,
   "metadata": {},
   "outputs": [],
   "source": [
    "import sys\n",
    "\n",
    "sys.path.append(f\"/home/npanj/personal_works/m5-forecasting-accuracy\")\n",
    "\n",
    "from src.utils.import_downcasting import import_downcasting\n",
    "from src.utils.plotting import PdfFile\n",
    "from utils import get_wmape, plotting_sales_forecast, get_wmape_custom_groupby\n",
    "import os\n",
    "import numpy as np\n",
    "import math\n",
    "import matplotlib.pyplot as plt\n",
    "import pandas as pd\n",
    "import copy\n",
    "\n",
    "root = os.path.join(\n",
    "    \"/home/npanj/personal_works/m5-forecasting-accuracy/assets/data/data_CA_1\"\n",
    ")"
   ]
  },
  {
   "cell_type": "code",
   "execution_count": 23,
   "metadata": {},
   "outputs": [
    {
     "name": "stdout",
     "output_type": "stream",
     "text": [
      "data ca1 list columns\n",
      "<class 'pandas.core.frame.DataFrame'>\n",
      "RangeIndex: 5918109 entries, 0 to 5918108\n",
      "Data columns (total 25 columns):\n",
      " #   Column          Dtype         \n",
      "---  ------          -----         \n",
      " 0   date            datetime64[ns]\n",
      " 1   id              category      \n",
      " 2   item_id         category      \n",
      " 3   dept_id         category      \n",
      " 4   cat_id          category      \n",
      " 5   store_id        category      \n",
      " 6   state_id        category      \n",
      " 7   date_code       category      \n",
      " 8   sales           int16         \n",
      " 9   wm_yr_wk        int16         \n",
      " 10  weekday         category      \n",
      " 11  wday            int8          \n",
      " 12  month           int8          \n",
      " 13  year            int16         \n",
      " 14  d               category      \n",
      " 15  event_name_1    category      \n",
      " 16  event_type_1    category      \n",
      " 17  event_name_2    category      \n",
      " 18  event_type_2    category      \n",
      " 19  snap_CA         int8          \n",
      " 20  snap_TX         int8          \n",
      " 21  snap_WI         int8          \n",
      " 22  sell_price      float16       \n",
      " 23  prediction      float16       \n",
      " 24  arima_residual  float16       \n",
      "dtypes: category(13), datetime64[ns](1), float16(3), int16(3), int8(5)\n",
      "memory usage: 237.4 MB\n",
      "None\n",
      "--------------------------------------------------\n",
      "data ca1 score list columns\n",
      "<class 'pandas.core.frame.DataFrame'>\n",
      "RangeIndex: 3049 entries, 0 to 3048\n",
      "Data columns (total 5 columns):\n",
      " #   Column    Non-Null Count  Dtype   \n",
      "---  ------    --------------  -----   \n",
      " 0   store_id  3049 non-null   category\n",
      " 1   item_id   3049 non-null   category\n",
      " 2   mse       3049 non-null   float16 \n",
      " 3   mae       3049 non-null   float16 \n",
      " 4   sse       3049 non-null   float32 \n",
      "dtypes: category(2), float16(2), float32(1)\n",
      "memory usage: 121.4 KB\n",
      "None\n",
      "<class 'pandas.core.frame.DataFrame'>\n",
      "DatetimeIndex: 5918109 entries, 2011-01-29 to 2016-05-22\n",
      "Data columns (total 26 columns):\n",
      " #   Column              Dtype   \n",
      "---  ------              -----   \n",
      " 0   id                  category\n",
      " 1   item_id             category\n",
      " 2   dept_id             category\n",
      " 3   cat_id              category\n",
      " 4   store_id            category\n",
      " 5   state_id            category\n",
      " 6   date_code           category\n",
      " 7   sales               int16   \n",
      " 8   wm_yr_wk            int16   \n",
      " 9   weekday             category\n",
      " 10  wday                int8    \n",
      " 11  month               int8    \n",
      " 12  year                int16   \n",
      " 13  d                   category\n",
      " 14  event_name_1        category\n",
      " 15  event_type_1        category\n",
      " 16  event_name_2        category\n",
      " 17  event_type_2        category\n",
      " 18  snap_CA             int8    \n",
      " 19  snap_TX             int8    \n",
      " 20  snap_WI             int8    \n",
      " 21  sell_price          float16 \n",
      " 22  prediction          float16 \n",
      " 23  arima_residual      float64 \n",
      " 24  event_name_1_group  object  \n",
      " 25  event_type_1_group  object  \n",
      "dtypes: category(13), float16(2), float64(1), int16(3), int8(5), object(2)\n",
      "memory usage: 361.5+ MB\n"
     ]
    }
   ],
   "source": [
    "data_ca1 = import_downcasting(os.path.join(root, \"data_with_arima_resid.csv\"))\n",
    "score_ca1 = import_downcasting(os.path.join(root, \"arima_model_score.csv\"))\n",
    "\n",
    "print(\"data ca1 list columns\")\n",
    "print(data_ca1.info(verbose=True))\n",
    "\n",
    "print(\"--------------------------------------------------\")\n",
    "print(\"data ca1 score list columns\")\n",
    "print(score_ca1.info())\n",
    "\n",
    "data_ca1 = data_ca1.set_index(\"date\")\n",
    "data_ca1[\"arima_residual\"] = data_ca1.arima_residual.astype(np.float64)\n",
    "data_ca1[\"event_name_1\"] = (\n",
    "    data_ca1[\"event_name_1\"].cat.add_categories(\"none\").fillna(\"none\")\n",
    ")\n",
    "data_ca1[\"event_type_1\"] = (\n",
    "    data_ca1[\"event_type_1\"].cat.add_categories(\"none\").fillna(\"none\")\n",
    ")\n",
    "data_ca1[\"event_name_2\"] = (\n",
    "    data_ca1[\"event_name_2\"].cat.add_categories(\"none\").fillna(\"none\")\n",
    ")\n",
    "data_ca1[\"event_type_2\"] = (\n",
    "    data_ca1[\"event_type_2\"].cat.add_categories(\"none\").fillna(\"none\")\n",
    ")\n",
    "\n",
    "data_ca1[\"event_name_1_group\"] = data_ca1[\"event_name_1\"].apply(lambda x: x if x == \"none\" else \"special\" )\n",
    "data_ca1[\"event_type_1_group\"] = data_ca1[\"event_type_1\"].apply(lambda x: x if x == \"none\" else \"special\" )\n",
    "data_ca1.info()"
   ]
  },
  {
   "cell_type": "markdown",
   "metadata": {},
   "source": [
    "- event\n",
    "  May need to combine between event_1 and event_2\n",
    "\n",
    "- snap\n",
    "  Focus only on snap_CA (CA = Califonia, TX = texas, WI = witcostin)"
   ]
  },
  {
   "cell_type": "code",
   "execution_count": 24,
   "metadata": {},
   "outputs": [
    {
     "data": {
      "text/html": [
       "<div>\n",
       "<style scoped>\n",
       "    .dataframe tbody tr th:only-of-type {\n",
       "        vertical-align: middle;\n",
       "    }\n",
       "\n",
       "    .dataframe tbody tr th {\n",
       "        vertical-align: top;\n",
       "    }\n",
       "\n",
       "    .dataframe thead th {\n",
       "        text-align: right;\n",
       "    }\n",
       "</style>\n",
       "<table border=\"1\" class=\"dataframe\">\n",
       "  <thead>\n",
       "    <tr style=\"text-align: right;\">\n",
       "      <th></th>\n",
       "      <th>sales</th>\n",
       "    </tr>\n",
       "    <tr>\n",
       "      <th>event_name_2</th>\n",
       "      <th></th>\n",
       "    </tr>\n",
       "  </thead>\n",
       "  <tbody>\n",
       "    <tr>\n",
       "      <th>Cinco De Mayo</th>\n",
       "      <td>3049</td>\n",
       "    </tr>\n",
       "    <tr>\n",
       "      <th>Easter</th>\n",
       "      <td>3049</td>\n",
       "    </tr>\n",
       "    <tr>\n",
       "      <th>Father's day</th>\n",
       "      <td>3049</td>\n",
       "    </tr>\n",
       "    <tr>\n",
       "      <th>OrthodoxEaster</th>\n",
       "      <td>3049</td>\n",
       "    </tr>\n",
       "    <tr>\n",
       "      <th>none</th>\n",
       "      <td>5905913</td>\n",
       "    </tr>\n",
       "  </tbody>\n",
       "</table>\n",
       "</div>"
      ],
      "text/plain": [
       "                  sales\n",
       "event_name_2           \n",
       "Cinco De Mayo      3049\n",
       "Easter             3049\n",
       "Father's day       3049\n",
       "OrthodoxEaster     3049\n",
       "none            5905913"
      ]
     },
     "execution_count": 24,
     "metadata": {},
     "output_type": "execute_result"
    }
   ],
   "source": [
    "##### Checking event_name_1 and event_type_1\n",
    "# check_event_name_type_1 = data_ca1[[\"event_name_1\", \"event_type_1\", \"sales\"]].groupby([\"event_name_1\", \"event_type_1\"]).count()\\\n",
    "# .reset_index()\n",
    "# check_event_name_type_1 = check_event_name_type_1[check_event_name_type_1.sales > 0]\n",
    "# check_event_name_type_1.sort_values(by=\"event_type_1\", inplace=True)\n",
    "# check_event_name_type_1\n",
    "\n",
    "\n",
    "##### Checking event_name_2 and event_type_2\n",
    "data_ca1[[\"event_name_2\", \"sales\"]].groupby(\"event_name_2\").count()\n",
    "\n",
    "##### Checking snap_CA\n",
    "# check_snap = data_ca1[[\"snap_CA\", \"sales\"]].groupby([\"snap_CA\"]).count()\\\n",
    "# .reset_index()\n",
    "# check_snap.rename(columns={\"sales\": \"num_obs\"}, inplace=True)\n",
    "# check_snap\n",
    "\n",
    "##### Checking dept_id and cat_id\n",
    "# check_dept_cat = data_ca1[[\"dept_id\", \"cat_id\", \"sales\"]].groupby([\"dept_id\", \"cat_id\"]).count()\\\n",
    "# .reset_index()\n",
    "# check_dept_cat.rename(columns={\"sales\": \"num_obs\"}, inplace=True)\n",
    "# check_dept_cat = check_dept_cat[check_dept_cat.num_obs > 0]\n",
    "# check_dept_cat"
   ]
  },
  {
   "cell_type": "code",
   "execution_count": 4,
   "metadata": {},
   "outputs": [],
   "source": [
    "wmape = get_wmape(data_ca1, \"arima_residual\")\n",
    "score_ca1 = pd.merge(\n",
    "    left=score_ca1,\n",
    "    right=wmape[[\"store_id\", \"item_id\", \"wmape\"]],\n",
    "    on=[\"store_id\", \"item_id\"],\n",
    "    how=\"left\",\n",
    ")\n",
    "\n",
    "score_ca1.sort_values(by=\"wmape\", ascending=False, inplace=True)\n",
    "score_ca1[\"rank_pct_wmape\"] = score_ca1[\"wmape\"].rank(pct=True)\n",
    "score_ca1 = score_ca1.reset_index(drop=True)\n",
    "\n",
    "data_ca1[\"root_square_resid\"] = data_ca1[\"arima_residual\"].apply(\n",
    "    lambda x: math.pow(x, 2)\n",
    ")"
   ]
  },
  {
   "cell_type": "code",
   "execution_count": 5,
   "metadata": {},
   "outputs": [
    {
     "name": "stdout",
     "output_type": "stream",
     "text": [
      "<class 'pandas.core.frame.DataFrame'>\n",
      "Int64Index: 9147 entries, 0 to 9146\n",
      "Data columns (total 8 columns):\n",
      " #   Column          Non-Null Count  Dtype   \n",
      "---  ------          --------------  -----   \n",
      " 0   store_id        9147 non-null   category\n",
      " 1   item_id         9147 non-null   category\n",
      " 2   mse             9147 non-null   float16 \n",
      " 3   mae             9147 non-null   float16 \n",
      " 4   sse             9147 non-null   float32 \n",
      " 5   wmape           9147 non-null   float64 \n",
      " 6   rank_pct_wmape  9147 non-null   float64 \n",
      " 7   cat_id          9147 non-null   category\n",
      "dtypes: category(3), float16(2), float32(1), float64(2)\n",
      "memory usage: 410.2 KB\n"
     ]
    }
   ],
   "source": [
    "item_id_cat_unq = data_ca1.groupby([\"item_id\", \"cat_id\"]).store_id.count().reset_index()\n",
    "score_ca1 = pd.merge(\n",
    "    left=score_ca1,\n",
    "    right=item_id_cat_unq[[\"item_id\", \"cat_id\"]],\n",
    "    left_on=[\"item_id\"],\n",
    "    right_on=[\"item_id\"],\n",
    "    how=\"left\",\n",
    ")\n",
    "\n",
    "score_ca1.info()\n",
    "##########"
   ]
  },
  {
   "cell_type": "code",
   "execution_count": 6,
   "metadata": {
    "scrolled": false
   },
   "outputs": [],
   "source": [
    "# plotting_sales_forecast(data=data_ca1, score=score_ca1, file_name=\"plotting_store_ca1.pdf\")\n",
    "# plotting_sales_forecast(data=data_ca1, score=score_ca1, file_name=\"plotting_hobbies_ca1.pdf\", product_cat=\"HOBBIES\")\n",
    "# plotting_sales_forecast(data=data_ca1, score=score_ca1, file_name=\"plotting_foods_ca1.pdf\", product_cat=\"FOODS\")\n",
    "# plotting_sales_forecast(data=data_ca1, score=score_ca1, file_name=\"plotting_household_ca1.pdf\",\\\n",
    "#                         product_cat=\"HOUSEHOLD\")"
   ]
  },
  {
   "cell_type": "markdown",
   "metadata": {},
   "source": [
    "# Analysis WMAPE on event_name_type1"
   ]
  },
  {
   "cell_type": "markdown",
   "metadata": {},
   "source": [
    "- event_name_1 = \"Christmas\" has sales equal to 0 for all observastion\n",
    "- Marjoriry of data belong to None type\n",
    "- Only these following days that seem to have impact that cuase residual to be higher\n",
    "        Thanksgiving\n",
    "        NewYear\n",
    "        Halloween\n",
    "        LentStart\n",
    "        LentWeek2\n",
    "        ValentinesDay\n",
    "        NBAFinalsStart\n",
    "- grouping into two group comsprised of special and none. These feature seem to have little of impact "
   ]
  },
  {
   "cell_type": "code",
   "execution_count": 7,
   "metadata": {},
   "outputs": [],
   "source": [
    "wmape_by_event_name_1 = get_wmape_custom_groupby(data_ca1, \"arima_residual\", [\"event_name_1\"])\n",
    "wmape_by_event_name_1.to_csv(\"wmape_analysis/wmape_by_event_name_1.csv\")\n",
    "\n",
    "wmape_event_name_1_grp = get_wmape_custom_groupby(data_ca1, \"arima_residual\", [\"event_name_1_group\"])\n",
    "wmape_event_name_1_grp.to_csv(\"wmape_analysis/wmape_event_name_1_group.csv\")"
   ]
  },
  {
   "cell_type": "markdown",
   "metadata": {},
   "source": [
    "# Analysis WMAPE on event_type_1"
   ]
  },
  {
   "cell_type": "markdown",
   "metadata": {},
   "source": [
    "- Only these following days that seem to have impact that cuase residual to be higher\n",
    "        National (Highest Different)\n",
    "        Cultural\n",
    "- Grouping to special and non special seem to have none impact"
   ]
  },
  {
   "cell_type": "code",
   "execution_count": 8,
   "metadata": {},
   "outputs": [],
   "source": [
    "wmape_by_event_type_1 = get_wmape_custom_groupby(data_ca1, \"arima_residual\", [\"event_type_1\"])\n",
    "wmape_by_event_type_1.to_csv(\"wmape_analysis/wmape_by_event_type_1.csv\")\n",
    "\n",
    "wmape_by_event_type_1_group = get_wmape_custom_groupby(data_ca1, \"arima_residual\", [\"event_type_1_group\"])\n",
    "wmape_by_event_type_1_group.to_csv(\"wmape_analysis/wmape_by_event_type_1_group.csv\")"
   ]
  },
  {
   "cell_type": "markdown",
   "metadata": {},
   "source": [
    "# Analysis WMAPE on snap_CA"
   ]
  },
  {
   "cell_type": "markdown",
   "metadata": {},
   "source": [
    "- WMAPE seems indifferent between having a snap and not having a snap"
   ]
  },
  {
   "cell_type": "code",
   "execution_count": 9,
   "metadata": {},
   "outputs": [],
   "source": [
    "wmape_snap = get_wmape_custom_groupby(data_ca1, \"arima_residual\", [\"snap_CA\"])\n",
    "wmape_snap.to_csv(\"wmape_analysis/wmape_snap.csv\")"
   ]
  },
  {
   "cell_type": "markdown",
   "metadata": {},
   "source": [
    "# Analysis WMAPE on dept_id"
   ]
  },
  {
   "cell_type": "markdown",
   "metadata": {},
   "source": [
    "Department ID has potential to adding information to the model"
   ]
  },
  {
   "cell_type": "code",
   "execution_count": 10,
   "metadata": {},
   "outputs": [
    {
     "data": {
      "text/html": [
       "<div>\n",
       "<style scoped>\n",
       "    .dataframe tbody tr th:only-of-type {\n",
       "        vertical-align: middle;\n",
       "    }\n",
       "\n",
       "    .dataframe tbody tr th {\n",
       "        vertical-align: top;\n",
       "    }\n",
       "\n",
       "    .dataframe thead th {\n",
       "        text-align: right;\n",
       "    }\n",
       "</style>\n",
       "<table border=\"1\" class=\"dataframe\">\n",
       "  <thead>\n",
       "    <tr style=\"text-align: right;\">\n",
       "      <th></th>\n",
       "      <th>dept_id</th>\n",
       "      <th>sum_abs_residual</th>\n",
       "      <th>mean_abs_residual</th>\n",
       "      <th>num_obs</th>\n",
       "      <th>sales</th>\n",
       "      <th>avg_sales</th>\n",
       "      <th>wmape</th>\n",
       "      <th>pct_obs</th>\n",
       "    </tr>\n",
       "  </thead>\n",
       "  <tbody>\n",
       "    <tr>\n",
       "      <th>4</th>\n",
       "      <td>HOBBIES_2</td>\n",
       "      <td>8.409791e+04</td>\n",
       "      <td>0.290786</td>\n",
       "      <td>289209</td>\n",
       "      <td>56505.0</td>\n",
       "      <td>0.195378</td>\n",
       "      <td>1.488327</td>\n",
       "      <td>0.048868</td>\n",
       "    </tr>\n",
       "    <tr>\n",
       "      <th>6</th>\n",
       "      <td>HOUSEHOLD_2</td>\n",
       "      <td>4.114642e+05</td>\n",
       "      <td>0.411623</td>\n",
       "      <td>999615</td>\n",
       "      <td>347116.0</td>\n",
       "      <td>0.347250</td>\n",
       "      <td>1.185380</td>\n",
       "      <td>0.168908</td>\n",
       "    </tr>\n",
       "    <tr>\n",
       "      <th>3</th>\n",
       "      <td>HOBBIES_1</td>\n",
       "      <td>7.721161e+05</td>\n",
       "      <td>0.956233</td>\n",
       "      <td>807456</td>\n",
       "      <td>835578.0</td>\n",
       "      <td>1.034828</td>\n",
       "      <td>0.924050</td>\n",
       "      <td>0.136438</td>\n",
       "    </tr>\n",
       "    <tr>\n",
       "      <th>1</th>\n",
       "      <td>FOODS_2</td>\n",
       "      <td>6.736336e+05</td>\n",
       "      <td>0.871997</td>\n",
       "      <td>772518</td>\n",
       "      <td>900391.0</td>\n",
       "      <td>1.165528</td>\n",
       "      <td>0.748157</td>\n",
       "      <td>0.130535</td>\n",
       "    </tr>\n",
       "    <tr>\n",
       "      <th>0</th>\n",
       "      <td>FOODS_1</td>\n",
       "      <td>4.282969e+05</td>\n",
       "      <td>1.021564</td>\n",
       "      <td>419256</td>\n",
       "      <td>577436.0</td>\n",
       "      <td>1.377287</td>\n",
       "      <td>0.741722</td>\n",
       "      <td>0.070843</td>\n",
       "    </tr>\n",
       "    <tr>\n",
       "      <th>5</th>\n",
       "      <td>HOUSEHOLD_1</td>\n",
       "      <td>8.188265e+05</td>\n",
       "      <td>0.792966</td>\n",
       "      <td>1032612</td>\n",
       "      <td>1121388.0</td>\n",
       "      <td>1.085972</td>\n",
       "      <td>0.730190</td>\n",
       "      <td>0.174483</td>\n",
       "    </tr>\n",
       "    <tr>\n",
       "      <th>2</th>\n",
       "      <td>FOODS_3</td>\n",
       "      <td>2.248673e+06</td>\n",
       "      <td>1.407670</td>\n",
       "      <td>1597443</td>\n",
       "      <td>3993834.0</td>\n",
       "      <td>2.500142</td>\n",
       "      <td>0.563036</td>\n",
       "      <td>0.269925</td>\n",
       "    </tr>\n",
       "  </tbody>\n",
       "</table>\n",
       "</div>"
      ],
      "text/plain": [
       "       dept_id  sum_abs_residual  mean_abs_residual  num_obs      sales  \\\n",
       "4    HOBBIES_2      8.409791e+04           0.290786   289209    56505.0   \n",
       "6  HOUSEHOLD_2      4.114642e+05           0.411623   999615   347116.0   \n",
       "3    HOBBIES_1      7.721161e+05           0.956233   807456   835578.0   \n",
       "1      FOODS_2      6.736336e+05           0.871997   772518   900391.0   \n",
       "0      FOODS_1      4.282969e+05           1.021564   419256   577436.0   \n",
       "5  HOUSEHOLD_1      8.188265e+05           0.792966  1032612  1121388.0   \n",
       "2      FOODS_3      2.248673e+06           1.407670  1597443  3993834.0   \n",
       "\n",
       "   avg_sales     wmape   pct_obs  \n",
       "4   0.195378  1.488327  0.048868  \n",
       "6   0.347250  1.185380  0.168908  \n",
       "3   1.034828  0.924050  0.136438  \n",
       "1   1.165528  0.748157  0.130535  \n",
       "0   1.377287  0.741722  0.070843  \n",
       "5   1.085972  0.730190  0.174483  \n",
       "2   2.500142  0.563036  0.269925  "
      ]
     },
     "execution_count": 10,
     "metadata": {},
     "output_type": "execute_result"
    }
   ],
   "source": [
    "wmape_dept = get_wmape_custom_groupby(data_ca1, \"arima_residual\", [\"dept_id\"])\n",
    "wmape_dept.to_csv(\"wmape_analysis/wmape_dept.csv\")\n",
    "\n",
    "wmape_dept"
   ]
  },
  {
   "cell_type": "markdown",
   "metadata": {},
   "source": [
    "# Analysis WMAPE on cat_id"
   ]
  },
  {
   "cell_type": "code",
   "execution_count": 16,
   "metadata": {},
   "outputs": [
    {
     "data": {
      "text/html": [
       "<div>\n",
       "<style scoped>\n",
       "    .dataframe tbody tr th:only-of-type {\n",
       "        vertical-align: middle;\n",
       "    }\n",
       "\n",
       "    .dataframe tbody tr th {\n",
       "        vertical-align: top;\n",
       "    }\n",
       "\n",
       "    .dataframe thead th {\n",
       "        text-align: right;\n",
       "    }\n",
       "</style>\n",
       "<table border=\"1\" class=\"dataframe\">\n",
       "  <thead>\n",
       "    <tr style=\"text-align: right;\">\n",
       "      <th></th>\n",
       "      <th>cat_id</th>\n",
       "      <th>sum_abs_residual</th>\n",
       "      <th>mean_abs_residual</th>\n",
       "      <th>num_obs</th>\n",
       "      <th>sales</th>\n",
       "      <th>avg_sales</th>\n",
       "      <th>wmape</th>\n",
       "      <th>pct_obs</th>\n",
       "    </tr>\n",
       "  </thead>\n",
       "  <tbody>\n",
       "    <tr>\n",
       "      <th>1</th>\n",
       "      <td>HOBBIES</td>\n",
       "      <td>8.562141e+05</td>\n",
       "      <td>0.780743</td>\n",
       "      <td>1096665</td>\n",
       "      <td>892083.0</td>\n",
       "      <td>0.813451</td>\n",
       "      <td>0.959792</td>\n",
       "      <td>0.185307</td>\n",
       "    </tr>\n",
       "    <tr>\n",
       "      <th>2</th>\n",
       "      <td>HOUSEHOLD</td>\n",
       "      <td>1.230291e+06</td>\n",
       "      <td>0.605390</td>\n",
       "      <td>2032227</td>\n",
       "      <td>1468504.0</td>\n",
       "      <td>0.722608</td>\n",
       "      <td>0.837785</td>\n",
       "      <td>0.343391</td>\n",
       "    </tr>\n",
       "    <tr>\n",
       "      <th>0</th>\n",
       "      <td>FOODS</td>\n",
       "      <td>3.350604e+06</td>\n",
       "      <td>1.201270</td>\n",
       "      <td>2789217</td>\n",
       "      <td>5471661.0</td>\n",
       "      <td>1.961719</td>\n",
       "      <td>0.612356</td>\n",
       "      <td>0.471302</td>\n",
       "    </tr>\n",
       "  </tbody>\n",
       "</table>\n",
       "</div>"
      ],
      "text/plain": [
       "      cat_id  sum_abs_residual  mean_abs_residual  num_obs      sales  \\\n",
       "1    HOBBIES      8.562141e+05           0.780743  1096665   892083.0   \n",
       "2  HOUSEHOLD      1.230291e+06           0.605390  2032227  1468504.0   \n",
       "0      FOODS      3.350604e+06           1.201270  2789217  5471661.0   \n",
       "\n",
       "   avg_sales     wmape   pct_obs  \n",
       "1   0.813451  0.959792  0.185307  \n",
       "2   0.722608  0.837785  0.343391  \n",
       "0   1.961719  0.612356  0.471302  "
      ]
     },
     "execution_count": 16,
     "metadata": {},
     "output_type": "execute_result"
    }
   ],
   "source": [
    "wmape_cat = get_wmape_custom_groupby(data_ca1, \"arima_residual\", [\"cat_id\"])\n",
    "wmape_cat.to_csv(\"wmape_analysis/wmape_cat.csv\")\n",
    "wmape_cat"
   ]
  },
  {
   "cell_type": "markdown",
   "metadata": {},
   "source": [
    "# Analysis residual from ARIMA model in the group last 20 percentile"
   ]
  },
  {
   "cell_type": "code",
   "execution_count": 12,
   "metadata": {},
   "outputs": [],
   "source": [
    "resid_score_worst_20pct = score_ca1[score_ca1.rank_pct_wmape > 0.8]\n",
    "item_resid_worst_20pct = list(resid_score_worst_20pct.item_id.unique())\n",
    "\n",
    "data_worst_20pct = data_ca1[data_ca1.item_id.isin(item_resid_worst_20pct)]\n",
    "data_worst_20pct.to_csv(os.path.join(root, \"data_arima_worst_30pct.csv\"))\n",
    "\n",
    "data_worst_20pct = import_downcasting(os.path.join(root, \"data_arima_worst_30pct.csv\"))"
   ]
  }
 ],
 "metadata": {
  "interpreter": {
   "hash": "2ccef7bf44afae269463cc411da779302db538aea51c1c7a8159435413959511"
  },
  "kernelspec": {
   "display_name": "Python 3 (ipykernel)",
   "language": "python",
   "name": "python3"
  },
  "language_info": {
   "codemirror_mode": {
    "name": "ipython",
    "version": 3
   },
   "file_extension": ".py",
   "mimetype": "text/x-python",
   "name": "python",
   "nbconvert_exporter": "python",
   "pygments_lexer": "ipython3",
   "version": "3.8.10"
  }
 },
 "nbformat": 4,
 "nbformat_minor": 2
}
